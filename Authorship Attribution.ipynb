{
 "cells": [
  {
   "cell_type": "markdown",
   "metadata": {},
   "source": [
    "# Machine Learning for Author Attribution "
   ]
  },
  {
   "cell_type": "markdown",
   "metadata": {},
   "source": [
    "## OVERVIEW"
   ]
  },
  {
   "cell_type": "markdown",
   "metadata": {},
   "source": [
    "Author attribution \"is the task of identifying the author of a given text from a (given) set of suspects (Mohsen et al. (2016)).\" This is a problem that can readily be framed as a text classification task, \"where author represents a class (label) of a given text (Mohsen et al. (2016)),\" and as a result, recent research into author attribution analysis has focussed almost exclusively on the use of machine learning techniques.\n",
    "\n",
    "Prior to the advent of social media, author attribution analysis was typically applied to longer texts, such as books and letters. In fact, Forsyth and Holmes (1996) concluded that a text had to be a minimum of 250 words in length for the stylometric characteristics to be apparent. However, recent research (for example, Green and Sheppard (2013), Schwartz et al. (2013) and Shrestha et al. (2017)) has demonstrated the successful application of author attribution techniques to Twitter messages (\"tweets\"), which \"average less than 25 words\" in length and are \"often less than 10\" words long (Green and Sheppard (2013)). \n",
    "\n",
    "Tweets are currently limited to 280 characters, and prior to November 2017, were limited to 140 characters. As a result, \"tweets are relatively self-contained and have smaller sentence length variance compared to excerpts from longer text (Schwartz et al. (2013)).\" It is possible that these characteristics are the reason why author attribution techniques, that have previously fallen apart when applied to shorter texts, have succeeded when applied to tweets. It is also possible that, had Forsyth and Holmes (1996) considered more modern machine learning algorithms in their analysis, such as support vector machines (SVMs) and neural networks, which were not in common use in 1996, that they would have drawn different conclusions about the minimum text length required to successfully identify the author of a text. \n",
    "\n",
    "In this analysis we explore these hypotheses by applying techniques that have been demonstrated to succeed in determining the authorship of tweets, to short, tweet-length, excerpts of longer works. In performing this analysis, we make use of a dataset comprising 68,000 sentence-long excerpts from the (fiction) works of eight classic authors. \n",
    "\n",
    "The dataset was created using novel texts sourced from [Project Gutenburg](https://www.gutenberg.org/), with chapter/section headings manually removed from the files prior to processing. To allow for the creation of a balanced dataset, for authors whose novels tended to be shorter in length, text excerpts were taken from multiple works.\n",
    "\n",
    "The novels used to create the dataset are attached in the folder for your reference:"
   ]
  },
  {
   "cell_type": "markdown",
   "metadata": {},
   "source": [
    "### Import Packages and Load Data"
   ]
  },
  {
   "cell_type": "code",
   "execution_count": 1,
   "metadata": {},
   "outputs": [
    {
     "name": "stderr",
     "output_type": "stream",
     "text": [
      "[nltk_data] Downloading package punkt to C:\\Users\\My\n",
      "[nltk_data]     Pc\\AppData\\Roaming\\nltk_data...\n",
      "[nltk_data]   Package punkt is already up-to-date!\n",
      "[nltk_data] Downloading package stopwords to C:\\Users\\My\n",
      "[nltk_data]     Pc\\AppData\\Roaming\\nltk_data...\n",
      "[nltk_data]   Package stopwords is already up-to-date!\n"
     ]
    },
    {
     "name": "stdout",
     "output_type": "stream",
     "text": [
      "Length of the combined list is  68000\n"
     ]
    }
   ],
   "source": [
    "import numpy as np\n",
    "import pandas as pd\n",
    "from keras.callbacks import ModelCheckpoint \n",
    "import nltk\n",
    "nltk.download('punkt')\n",
    "from nltk.corpus import stopwords\n",
    "from collections import Counter\n",
    "import seaborn as sns\n",
    "import matplotlib.pyplot as plt\n",
    "import string\n",
    "from nltk.corpus import stopwords\n",
    "from nltk.stem import PorterStemmer\n",
    "nltk.download('stopwords')\n",
    "import time\n",
    "from sklearn.feature_extraction.text import CountVectorizer, TfidfVectorizer\n",
    "from sklearn.model_selection import GridSearchCV\n",
    "from sklearn.metrics import accuracy_score, make_scorer, confusion_matrix\n",
    "from sklearn.metrics import precision_recall_fscore_support as score\n",
    "from keras.models import Model\n",
    "import chardet\n",
    "from keras.layers import Input, Dense, Flatten, Dropout, Embedding\n",
    "from keras.layers.convolutional import Conv1D, MaxPooling1D\n",
    "from keras.layers.merge import concatenate\n",
    "from tensorflow.keras.optimizers import Adam\n",
    "from keras.preprocessing.text import one_hot\n",
    "from nltk.stem.porter import PorterStemmer\n",
    "from sklearn.model_selection import train_test_split, KFold\n",
    "from sklearn.preprocessing import MinMaxScaler, MaxAbsScaler\n",
    "from sklearn.preprocessing import LabelBinarizer\n",
    "from sklearn.svm import SVC\n",
    "from scipy import sparse, stats\n",
    "from nltk import tokenize\n",
    "import numpy as np\n",
    "import random\n",
    "from sklearn.model_selection import train_test_split\n",
    "from keras.models import Model\n",
    "from keras import metrics\n",
    "import tensorflow as tf\n",
    "from keras.layers import Input, Dense, Embedding,Dropout,Conv1D,MaxPooling1D,Flatten,concatenate\n",
    "def split_text(filepath, min_char):\n",
    "    file = open(filepath, \"r\", encoding=\"utf8\")\n",
    "    text = file.read().replace('\\n', ' ')\n",
    "    text = text.replace('--', ' ').replace('. . .', '').replace('_', '')\n",
    "    text = text.replace('.”', '”.').replace('.\"', '\".').replace('?”', '”?').replace('!”', '”!')\n",
    "    file.close()\n",
    "    sentences = tokenize.sent_tokenize(text)\n",
    "    sentences = [sent for sent in sentences if len(sent) >= min_char]\n",
    "    return list(sentences)\n",
    "min_char = 5\n",
    "alcott = split_text('Books/Little_Women.txt', min_char = min_char)\n",
    "stoker = split_text('Books/Dracula.txt', min_char = min_char)\n",
    "twain = split_text('Books/Tom_Sawyer.txt', min_char = min_char)\\\n",
    "        + split_text('Books/Huckleberry_Finn.txt', min_char = min_char)\n",
    "austen = split_text('Books/Pride_and_Prejudice.txt', min_char = min_char)\\\n",
    "         + split_text('Books/Emma.txt', min_char = min_char)\n",
    "collins = split_text('Books/Woman_in_White.txt', min_char = min_char)\n",
    "doyle = split_text('Books/Study_in_Scarlet.txt', min_char = min_char)\\\n",
    "        + split_text('Books/Sign_of_the_Four.txt', min_char = min_char)\\\n",
    "        + split_text('Books/Hound_of_the_Baskervilles.txt', min_char = min_char)\n",
    "montgomery = split_text('Books/Anne_of_Green_Gables.txt', min_char = min_char)\\\n",
    "             + split_text('Books/Anne_of_Avonlea.txt', min_char = min_char)\n",
    "bronte = split_text('Books/Jane_Eyre.txt', min_char = min_char)\n",
    "\n",
    "text_dict = {'Alcott': alcott, 'Stoker': stoker, 'Twain': twain, 'Austen': austen, 'Collins': collins,\n",
    "             'Doyle': doyle, 'Montgomery': montgomery, 'Bronte': bronte }\n",
    "np.random.seed(1)\n",
    "combined = []\n",
    "max_length = 8500\n",
    "names = [alcott, stoker,twain, austen, collins, doyle, montgomery, bronte]\n",
    "for name in names:\n",
    "    name = np.random.choice(name, max_length, replace = False)\n",
    "    combined += list(name)\n",
    "\n",
    "print('Length of the combined list is ', len(combined))"
   ]
  },
  {
   "cell_type": "code",
   "execution_count": 2,
   "metadata": {
    "scrolled": true
   },
   "outputs": [
    {
     "name": "stdout",
     "output_type": "stream",
     "text": [
      "{'encoding': 'utf-8', 'confidence': 0.99, 'language': ''}\n"
     ]
    }
   ],
   "source": [
    "labels = ['Alcott']*max_length + ['Stoker']*max_length + ['Twain']*max_length + ['Austen']*max_length\\\n",
    "         + ['Collins']*max_length + ['Doyle']*max_length + ['Montgomery']*max_length + ['Bronte']*max_length\n",
    "random.seed(3)\n",
    "zipped = list(zip(combined, labels))\n",
    "random.shuffle(zipped)\n",
    "combined, labels = zip(*zipped)\n",
    "out_data = pd.DataFrame()\n",
    "out_data['text'] = combined\n",
    "out_data['author'] = labels\n",
    "out_data.to_csv('author_data.csv', index=False)\n",
    "# Get encoding of data file\n",
    "with open(\"C:/Users/My Pc/Desktop/Python/Ashwin Github/N16317183/author_data.csv\", 'rb') as file:\n",
    "    print(chardet.detect(file.read()))\n",
    "data = pd.read_csv(\"C:/Users/My Pc/Desktop/Python/Ashwin Github/N16317183/author_data.csv\", encoding=\"utf-8\")"
   ]
  },
  {
   "cell_type": "code",
   "execution_count": 3,
   "metadata": {},
   "outputs": [
    {
     "name": "stderr",
     "output_type": "stream",
     "text": [
      "C:\\Users\\My Pc\\AppData\\Roaming\\Python\\Python39\\site-packages\\seaborn\\distributions.py:2619: FutureWarning: `distplot` is a deprecated function and will be removed in a future version. Please adapt your code to use either `displot` (a figure-level function with similar flexibility) or `histplot` (an axes-level function for histograms).\n",
      "  warnings.warn(msg, FutureWarning)\n",
      "The PostScript backend does not support transparency; partially transparent artists will be rendered opaque.\n",
      "The PostScript backend does not support transparency; partially transparent artists will be rendered opaque.\n",
      "The PostScript backend does not support transparency; partially transparent artists will be rendered opaque.\n",
      "The PostScript backend does not support transparency; partially transparent artists will be rendered opaque.\n",
      "The PostScript backend does not support transparency; partially transparent artists will be rendered opaque.\n",
      "The PostScript backend does not support transparency; partially transparent artists will be rendered opaque.\n",
      "The PostScript backend does not support transparency; partially transparent artists will be rendered opaque.\n",
      "The PostScript backend does not support transparency; partially transparent artists will be rendered opaque.\n",
      "The PostScript backend does not support transparency; partially transparent artists will be rendered opaque.\n",
      "The PostScript backend does not support transparency; partially transparent artists will be rendered opaque.\n",
      "The PostScript backend does not support transparency; partially transparent artists will be rendered opaque.\n",
      "The PostScript backend does not support transparency; partially transparent artists will be rendered opaque.\n",
      "The PostScript backend does not support transparency; partially transparent artists will be rendered opaque.\n",
      "The PostScript backend does not support transparency; partially transparent artists will be rendered opaque.\n",
      "The PostScript backend does not support transparency; partially transparent artists will be rendered opaque.\n",
      "The PostScript backend does not support transparency; partially transparent artists will be rendered opaque.\n",
      "The PostScript backend does not support transparency; partially transparent artists will be rendered opaque.\n",
      "The PostScript backend does not support transparency; partially transparent artists will be rendered opaque.\n",
      "The PostScript backend does not support transparency; partially transparent artists will be rendered opaque.\n",
      "The PostScript backend does not support transparency; partially transparent artists will be rendered opaque.\n",
      "The PostScript backend does not support transparency; partially transparent artists will be rendered opaque.\n",
      "The PostScript backend does not support transparency; partially transparent artists will be rendered opaque.\n",
      "The PostScript backend does not support transparency; partially transparent artists will be rendered opaque.\n",
      "The PostScript backend does not support transparency; partially transparent artists will be rendered opaque.\n",
      "The PostScript backend does not support transparency; partially transparent artists will be rendered opaque.\n",
      "The PostScript backend does not support transparency; partially transparent artists will be rendered opaque.\n",
      "The PostScript backend does not support transparency; partially transparent artists will be rendered opaque.\n",
      "The PostScript backend does not support transparency; partially transparent artists will be rendered opaque.\n",
      "The PostScript backend does not support transparency; partially transparent artists will be rendered opaque.\n",
      "The PostScript backend does not support transparency; partially transparent artists will be rendered opaque.\n",
      "The PostScript backend does not support transparency; partially transparent artists will be rendered opaque.\n",
      "The PostScript backend does not support transparency; partially transparent artists will be rendered opaque.\n",
      "The PostScript backend does not support transparency; partially transparent artists will be rendered opaque.\n",
      "The PostScript backend does not support transparency; partially transparent artists will be rendered opaque.\n",
      "The PostScript backend does not support transparency; partially transparent artists will be rendered opaque.\n",
      "The PostScript backend does not support transparency; partially transparent artists will be rendered opaque.\n",
      "The PostScript backend does not support transparency; partially transparent artists will be rendered opaque.\n",
      "The PostScript backend does not support transparency; partially transparent artists will be rendered opaque.\n",
      "The PostScript backend does not support transparency; partially transparent artists will be rendered opaque.\n",
      "The PostScript backend does not support transparency; partially transparent artists will be rendered opaque.\n",
      "The PostScript backend does not support transparency; partially transparent artists will be rendered opaque.\n",
      "The PostScript backend does not support transparency; partially transparent artists will be rendered opaque.\n",
      "The PostScript backend does not support transparency; partially transparent artists will be rendered opaque.\n",
      "The PostScript backend does not support transparency; partially transparent artists will be rendered opaque.\n",
      "The PostScript backend does not support transparency; partially transparent artists will be rendered opaque.\n",
      "The PostScript backend does not support transparency; partially transparent artists will be rendered opaque.\n",
      "The PostScript backend does not support transparency; partially transparent artists will be rendered opaque.\n",
      "The PostScript backend does not support transparency; partially transparent artists will be rendered opaque.\n",
      "The PostScript backend does not support transparency; partially transparent artists will be rendered opaque.\n",
      "The PostScript backend does not support transparency; partially transparent artists will be rendered opaque.\n",
      "The PostScript backend does not support transparency; partially transparent artists will be rendered opaque.\n",
      "The PostScript backend does not support transparency; partially transparent artists will be rendered opaque.\n",
      "The PostScript backend does not support transparency; partially transparent artists will be rendered opaque.\n",
      "The PostScript backend does not support transparency; partially transparent artists will be rendered opaque.\n",
      "The PostScript backend does not support transparency; partially transparent artists will be rendered opaque.\n",
      "The PostScript backend does not support transparency; partially transparent artists will be rendered opaque.\n",
      "The PostScript backend does not support transparency; partially transparent artists will be rendered opaque.\n",
      "The PostScript backend does not support transparency; partially transparent artists will be rendered opaque.\n",
      "The PostScript backend does not support transparency; partially transparent artists will be rendered opaque.\n",
      "The PostScript backend does not support transparency; partially transparent artists will be rendered opaque.\n",
      "The PostScript backend does not support transparency; partially transparent artists will be rendered opaque.\n",
      "The PostScript backend does not support transparency; partially transparent artists will be rendered opaque.\n",
      "The PostScript backend does not support transparency; partially transparent artists will be rendered opaque.\n",
      "The PostScript backend does not support transparency; partially transparent artists will be rendered opaque.\n",
      "The PostScript backend does not support transparency; partially transparent artists will be rendered opaque.\n",
      "The PostScript backend does not support transparency; partially transparent artists will be rendered opaque.\n",
      "The PostScript backend does not support transparency; partially transparent artists will be rendered opaque.\n",
      "The PostScript backend does not support transparency; partially transparent artists will be rendered opaque.\n",
      "The PostScript backend does not support transparency; partially transparent artists will be rendered opaque.\n",
      "The PostScript backend does not support transparency; partially transparent artists will be rendered opaque.\n"
     ]
    },
    {
     "data": {
      "image/png": "[encoded data removed]",
      "text/plain": [
       "<Figure size 432x288 with 1 Axes>"
      ]
     },
     "metadata": {
      "needs_background": "light"
     },
     "output_type": "display_data"
    }
   ],
   "source": [
    "# Create word count and character count lists\n",
    "text = list(data['text'].values)\n",
    "author = list(data['author'].values)\n",
    "word_count = []\n",
    "char_count = []\n",
    "\n",
    "for i in range(len(text)):\n",
    "    word_count.append(len(text[i].split()))\n",
    "    char_count.append(len(text[i]))\n",
    "\n",
    "# Convert lists to numpy arrays\n",
    "word_count = np.array(word_count)\n",
    "char_count = np.array(char_count)\n",
    "\n",
    "# Calculate average word lengths\n",
    "ave_length = np.array(char_count)/np.array(word_count)\n",
    "sns.distplot(word_count, kde = False, bins = 70, color = 'blue').set_title(\"Word Count Distribution\")\n",
    "plt.xlabel('Excerpt Length (Words)')\n",
    "plt.ylabel('Count')\n",
    "plt.xlim(0, 200)\n",
    "plt.savefig(\"word_count.eps\")"
   ]
  },
  {
   "cell_type": "code",
   "execution_count": 4,
   "metadata": {},
   "outputs": [
    {
     "name": "stderr",
     "output_type": "stream",
     "text": [
      "The PostScript backend does not support transparency; partially transparent artists will be rendered opaque.\n",
      "The PostScript backend does not support transparency; partially transparent artists will be rendered opaque.\n",
      "The PostScript backend does not support transparency; partially transparent artists will be rendered opaque.\n",
      "The PostScript backend does not support transparency; partially transparent artists will be rendered opaque.\n",
      "The PostScript backend does not support transparency; partially transparent artists will be rendered opaque.\n",
      "The PostScript backend does not support transparency; partially transparent artists will be rendered opaque.\n",
      "The PostScript backend does not support transparency; partially transparent artists will be rendered opaque.\n",
      "The PostScript backend does not support transparency; partially transparent artists will be rendered opaque.\n",
      "The PostScript backend does not support transparency; partially transparent artists will be rendered opaque.\n",
      "The PostScript backend does not support transparency; partially transparent artists will be rendered opaque.\n",
      "The PostScript backend does not support transparency; partially transparent artists will be rendered opaque.\n",
      "The PostScript backend does not support transparency; partially transparent artists will be rendered opaque.\n",
      "The PostScript backend does not support transparency; partially transparent artists will be rendered opaque.\n",
      "The PostScript backend does not support transparency; partially transparent artists will be rendered opaque.\n",
      "The PostScript backend does not support transparency; partially transparent artists will be rendered opaque.\n",
      "The PostScript backend does not support transparency; partially transparent artists will be rendered opaque.\n",
      "The PostScript backend does not support transparency; partially transparent artists will be rendered opaque.\n",
      "The PostScript backend does not support transparency; partially transparent artists will be rendered opaque.\n",
      "The PostScript backend does not support transparency; partially transparent artists will be rendered opaque.\n",
      "The PostScript backend does not support transparency; partially transparent artists will be rendered opaque.\n",
      "The PostScript backend does not support transparency; partially transparent artists will be rendered opaque.\n",
      "The PostScript backend does not support transparency; partially transparent artists will be rendered opaque.\n",
      "The PostScript backend does not support transparency; partially transparent artists will be rendered opaque.\n",
      "The PostScript backend does not support transparency; partially transparent artists will be rendered opaque.\n",
      "The PostScript backend does not support transparency; partially transparent artists will be rendered opaque.\n",
      "The PostScript backend does not support transparency; partially transparent artists will be rendered opaque.\n",
      "The PostScript backend does not support transparency; partially transparent artists will be rendered opaque.\n",
      "The PostScript backend does not support transparency; partially transparent artists will be rendered opaque.\n",
      "The PostScript backend does not support transparency; partially transparent artists will be rendered opaque.\n",
      "The PostScript backend does not support transparency; partially transparent artists will be rendered opaque.\n",
      "The PostScript backend does not support transparency; partially transparent artists will be rendered opaque.\n",
      "The PostScript backend does not support transparency; partially transparent artists will be rendered opaque.\n",
      "The PostScript backend does not support transparency; partially transparent artists will be rendered opaque.\n",
      "The PostScript backend does not support transparency; partially transparent artists will be rendered opaque.\n",
      "The PostScript backend does not support transparency; partially transparent artists will be rendered opaque.\n",
      "The PostScript backend does not support transparency; partially transparent artists will be rendered opaque.\n",
      "The PostScript backend does not support transparency; partially transparent artists will be rendered opaque.\n",
      "The PostScript backend does not support transparency; partially transparent artists will be rendered opaque.\n",
      "The PostScript backend does not support transparency; partially transparent artists will be rendered opaque.\n",
      "The PostScript backend does not support transparency; partially transparent artists will be rendered opaque.\n",
      "The PostScript backend does not support transparency; partially transparent artists will be rendered opaque.\n",
      "The PostScript backend does not support transparency; partially transparent artists will be rendered opaque.\n",
      "The PostScript backend does not support transparency; partially transparent artists will be rendered opaque.\n",
      "The PostScript backend does not support transparency; partially transparent artists will be rendered opaque.\n",
      "The PostScript backend does not support transparency; partially transparent artists will be rendered opaque.\n",
      "The PostScript backend does not support transparency; partially transparent artists will be rendered opaque.\n",
      "The PostScript backend does not support transparency; partially transparent artists will be rendered opaque.\n",
      "The PostScript backend does not support transparency; partially transparent artists will be rendered opaque.\n",
      "The PostScript backend does not support transparency; partially transparent artists will be rendered opaque.\n",
      "The PostScript backend does not support transparency; partially transparent artists will be rendered opaque.\n",
      "The PostScript backend does not support transparency; partially transparent artists will be rendered opaque.\n",
      "The PostScript backend does not support transparency; partially transparent artists will be rendered opaque.\n",
      "The PostScript backend does not support transparency; partially transparent artists will be rendered opaque.\n",
      "The PostScript backend does not support transparency; partially transparent artists will be rendered opaque.\n",
      "The PostScript backend does not support transparency; partially transparent artists will be rendered opaque.\n",
      "The PostScript backend does not support transparency; partially transparent artists will be rendered opaque.\n",
      "The PostScript backend does not support transparency; partially transparent artists will be rendered opaque.\n",
      "The PostScript backend does not support transparency; partially transparent artists will be rendered opaque.\n",
      "The PostScript backend does not support transparency; partially transparent artists will be rendered opaque.\n",
      "The PostScript backend does not support transparency; partially transparent artists will be rendered opaque.\n",
      "The PostScript backend does not support transparency; partially transparent artists will be rendered opaque.\n",
      "The PostScript backend does not support transparency; partially transparent artists will be rendered opaque.\n",
      "The PostScript backend does not support transparency; partially transparent artists will be rendered opaque.\n",
      "The PostScript backend does not support transparency; partially transparent artists will be rendered opaque.\n",
      "The PostScript backend does not support transparency; partially transparent artists will be rendered opaque.\n",
      "The PostScript backend does not support transparency; partially transparent artists will be rendered opaque.\n",
      "The PostScript backend does not support transparency; partially transparent artists will be rendered opaque.\n",
      "The PostScript backend does not support transparency; partially transparent artists will be rendered opaque.\n",
      "The PostScript backend does not support transparency; partially transparent artists will be rendered opaque.\n",
      "The PostScript backend does not support transparency; partially transparent artists will be rendered opaque.\n",
      "The PostScript backend does not support transparency; partially transparent artists will be rendered opaque.\n",
      "The PostScript backend does not support transparency; partially transparent artists will be rendered opaque.\n",
      "The PostScript backend does not support transparency; partially transparent artists will be rendered opaque.\n",
      "The PostScript backend does not support transparency; partially transparent artists will be rendered opaque.\n",
      "The PostScript backend does not support transparency; partially transparent artists will be rendered opaque.\n",
      "The PostScript backend does not support transparency; partially transparent artists will be rendered opaque.\n"
     ]
    },
    {
     "name": "stderr",
     "output_type": "stream",
     "text": [
      "The PostScript backend does not support transparency; partially transparent artists will be rendered opaque.\n",
      "The PostScript backend does not support transparency; partially transparent artists will be rendered opaque.\n",
      "The PostScript backend does not support transparency; partially transparent artists will be rendered opaque.\n",
      "The PostScript backend does not support transparency; partially transparent artists will be rendered opaque.\n",
      "The PostScript backend does not support transparency; partially transparent artists will be rendered opaque.\n",
      "The PostScript backend does not support transparency; partially transparent artists will be rendered opaque.\n",
      "The PostScript backend does not support transparency; partially transparent artists will be rendered opaque.\n",
      "The PostScript backend does not support transparency; partially transparent artists will be rendered opaque.\n",
      "The PostScript backend does not support transparency; partially transparent artists will be rendered opaque.\n",
      "The PostScript backend does not support transparency; partially transparent artists will be rendered opaque.\n",
      "The PostScript backend does not support transparency; partially transparent artists will be rendered opaque.\n",
      "The PostScript backend does not support transparency; partially transparent artists will be rendered opaque.\n",
      "The PostScript backend does not support transparency; partially transparent artists will be rendered opaque.\n",
      "The PostScript backend does not support transparency; partially transparent artists will be rendered opaque.\n",
      "The PostScript backend does not support transparency; partially transparent artists will be rendered opaque.\n",
      "The PostScript backend does not support transparency; partially transparent artists will be rendered opaque.\n",
      "The PostScript backend does not support transparency; partially transparent artists will be rendered opaque.\n",
      "The PostScript backend does not support transparency; partially transparent artists will be rendered opaque.\n",
      "The PostScript backend does not support transparency; partially transparent artists will be rendered opaque.\n",
      "The PostScript backend does not support transparency; partially transparent artists will be rendered opaque.\n",
      "The PostScript backend does not support transparency; partially transparent artists will be rendered opaque.\n",
      "The PostScript backend does not support transparency; partially transparent artists will be rendered opaque.\n",
      "The PostScript backend does not support transparency; partially transparent artists will be rendered opaque.\n",
      "The PostScript backend does not support transparency; partially transparent artists will be rendered opaque.\n"
     ]
    },
    {
     "data": {
      "image/png": "[encoded data removed]",
      "text/plain": [
       "<Figure size 432x288 with 1 Axes>"
      ]
     },
     "metadata": {
      "needs_background": "light"
     },
     "output_type": "display_data"
    }
   ],
   "source": [
    "# Plot character count distribution\n",
    "sns.distplot(char_count, kde = False, bins = 100, color = 'blue').set_title(\"Character Count Distribution\")\n",
    "plt.xlabel('Excerpt Length (Characters)')\n",
    "plt.ylabel('Count')\n",
    "plt.xlim(0, 600)\n",
    "plt.savefig(\"char_count.eps\")\n",
    "#print(\"\\nAverage length statistics\")\n",
    "#get_stats(ave_length)\n"
   ]
  },
  {
   "cell_type": "code",
   "execution_count": 5,
   "metadata": {},
   "outputs": [
    {
     "name": "stderr",
     "output_type": "stream",
     "text": [
      "The PostScript backend does not support transparency; partially transparent artists will be rendered opaque.\n",
      "The PostScript backend does not support transparency; partially transparent artists will be rendered opaque.\n",
      "The PostScript backend does not support transparency; partially transparent artists will be rendered opaque.\n",
      "The PostScript backend does not support transparency; partially transparent artists will be rendered opaque.\n",
      "The PostScript backend does not support transparency; partially transparent artists will be rendered opaque.\n",
      "The PostScript backend does not support transparency; partially transparent artists will be rendered opaque.\n",
      "The PostScript backend does not support transparency; partially transparent artists will be rendered opaque.\n",
      "The PostScript backend does not support transparency; partially transparent artists will be rendered opaque.\n",
      "The PostScript backend does not support transparency; partially transparent artists will be rendered opaque.\n",
      "The PostScript backend does not support transparency; partially transparent artists will be rendered opaque.\n",
      "The PostScript backend does not support transparency; partially transparent artists will be rendered opaque.\n",
      "The PostScript backend does not support transparency; partially transparent artists will be rendered opaque.\n",
      "The PostScript backend does not support transparency; partially transparent artists will be rendered opaque.\n",
      "The PostScript backend does not support transparency; partially transparent artists will be rendered opaque.\n",
      "The PostScript backend does not support transparency; partially transparent artists will be rendered opaque.\n",
      "The PostScript backend does not support transparency; partially transparent artists will be rendered opaque.\n",
      "The PostScript backend does not support transparency; partially transparent artists will be rendered opaque.\n",
      "The PostScript backend does not support transparency; partially transparent artists will be rendered opaque.\n",
      "The PostScript backend does not support transparency; partially transparent artists will be rendered opaque.\n",
      "The PostScript backend does not support transparency; partially transparent artists will be rendered opaque.\n",
      "The PostScript backend does not support transparency; partially transparent artists will be rendered opaque.\n",
      "The PostScript backend does not support transparency; partially transparent artists will be rendered opaque.\n",
      "The PostScript backend does not support transparency; partially transparent artists will be rendered opaque.\n",
      "The PostScript backend does not support transparency; partially transparent artists will be rendered opaque.\n",
      "The PostScript backend does not support transparency; partially transparent artists will be rendered opaque.\n",
      "The PostScript backend does not support transparency; partially transparent artists will be rendered opaque.\n",
      "The PostScript backend does not support transparency; partially transparent artists will be rendered opaque.\n",
      "The PostScript backend does not support transparency; partially transparent artists will be rendered opaque.\n",
      "The PostScript backend does not support transparency; partially transparent artists will be rendered opaque.\n",
      "The PostScript backend does not support transparency; partially transparent artists will be rendered opaque.\n",
      "The PostScript backend does not support transparency; partially transparent artists will be rendered opaque.\n",
      "The PostScript backend does not support transparency; partially transparent artists will be rendered opaque.\n",
      "The PostScript backend does not support transparency; partially transparent artists will be rendered opaque.\n",
      "The PostScript backend does not support transparency; partially transparent artists will be rendered opaque.\n",
      "The PostScript backend does not support transparency; partially transparent artists will be rendered opaque.\n",
      "The PostScript backend does not support transparency; partially transparent artists will be rendered opaque.\n",
      "The PostScript backend does not support transparency; partially transparent artists will be rendered opaque.\n",
      "The PostScript backend does not support transparency; partially transparent artists will be rendered opaque.\n",
      "The PostScript backend does not support transparency; partially transparent artists will be rendered opaque.\n",
      "The PostScript backend does not support transparency; partially transparent artists will be rendered opaque.\n",
      "The PostScript backend does not support transparency; partially transparent artists will be rendered opaque.\n",
      "The PostScript backend does not support transparency; partially transparent artists will be rendered opaque.\n",
      "The PostScript backend does not support transparency; partially transparent artists will be rendered opaque.\n",
      "The PostScript backend does not support transparency; partially transparent artists will be rendered opaque.\n",
      "The PostScript backend does not support transparency; partially transparent artists will be rendered opaque.\n",
      "The PostScript backend does not support transparency; partially transparent artists will be rendered opaque.\n",
      "The PostScript backend does not support transparency; partially transparent artists will be rendered opaque.\n",
      "The PostScript backend does not support transparency; partially transparent artists will be rendered opaque.\n",
      "The PostScript backend does not support transparency; partially transparent artists will be rendered opaque.\n",
      "The PostScript backend does not support transparency; partially transparent artists will be rendered opaque.\n",
      "The PostScript backend does not support transparency; partially transparent artists will be rendered opaque.\n",
      "The PostScript backend does not support transparency; partially transparent artists will be rendered opaque.\n",
      "The PostScript backend does not support transparency; partially transparent artists will be rendered opaque.\n",
      "The PostScript backend does not support transparency; partially transparent artists will be rendered opaque.\n",
      "The PostScript backend does not support transparency; partially transparent artists will be rendered opaque.\n",
      "The PostScript backend does not support transparency; partially transparent artists will be rendered opaque.\n",
      "The PostScript backend does not support transparency; partially transparent artists will be rendered opaque.\n",
      "The PostScript backend does not support transparency; partially transparent artists will be rendered opaque.\n",
      "The PostScript backend does not support transparency; partially transparent artists will be rendered opaque.\n",
      "The PostScript backend does not support transparency; partially transparent artists will be rendered opaque.\n",
      "The PostScript backend does not support transparency; partially transparent artists will be rendered opaque.\n",
      "The PostScript backend does not support transparency; partially transparent artists will be rendered opaque.\n",
      "The PostScript backend does not support transparency; partially transparent artists will be rendered opaque.\n",
      "The PostScript backend does not support transparency; partially transparent artists will be rendered opaque.\n",
      "The PostScript backend does not support transparency; partially transparent artists will be rendered opaque.\n",
      "The PostScript backend does not support transparency; partially transparent artists will be rendered opaque.\n",
      "The PostScript backend does not support transparency; partially transparent artists will be rendered opaque.\n",
      "The PostScript backend does not support transparency; partially transparent artists will be rendered opaque.\n",
      "The PostScript backend does not support transparency; partially transparent artists will be rendered opaque.\n",
      "The PostScript backend does not support transparency; partially transparent artists will be rendered opaque.\n"
     ]
    },
    {
     "data": {
      "image/png": "[encoded data removed]",
      "text/plain": [
       "<Figure size 432x288 with 1 Axes>"
      ]
     },
     "metadata": {
      "needs_background": "light"
     },
     "output_type": "display_data"
    }
   ],
   "source": [
    "# Plot average excerpt length distribution\n",
    "sns.distplot(ave_length, kde = False, bins = 70, color = 'blue').set_title(\"Average Word Length Distribution\")\n",
    "plt.xlabel('Average Excerpt Length (Characters)')\n",
    "plt.ylabel('Count')\n",
    "plt.xlim(0, 15)\n",
    "plt.savefig(\"ave_length.eps\")"
   ]
  },
  {
   "cell_type": "markdown",
   "metadata": {},
   "source": [
    "The vast majority of text excerpts are under 100 words long, with an average length of around 18 words. However, there are a small number of outliers, including one excerpt containing over 250 words. At the opposite end of the spectrum, 1 percent of the text excerpts contain only 1 word each.\n",
    "\n",
    "On average, the text excerpts contain around 95 characters each, with the longest containing 1370 characters and the shortest, just 5 characters (sentences containing fewer than 5 characters were removed during the creation of the dataset). We would expect there to be a high correlation between word count and character count, so as a result, we shall just focus on further examining word count outliers, going forward and assume these are the same as the character count outliers.\n",
    "\n",
    "With regard to word length, the majority of the excerpts have an average word length of around 5.3 characters. However, there are also outliers in this distribution, including one excerpt with an average word length of 22.0 characters, and at the other end of the spectrum, an excerpt with an average word length of 2.5 characters.\n",
    "\n"
   ]
  },
  {
   "cell_type": "code",
   "execution_count": 6,
   "metadata": {},
   "outputs": [],
   "source": [
    "#Preprocessing\n",
    "word_outliers = np.where(word_count > 150)\n",
    "word_outliers = np.where(word_count < 2)\n",
    "length_outliers = np.where(ave_length > 10)\n",
    "length_outliers = np.where(ave_length < 3.5)\n",
    "text_string = ''\n",
    "for i in range(len(text)):\n",
    "    text_string += text[i].lower()\n",
    "char_cnt = Counter(text_string)\n",
    "accented_chars = ['ï', 'é', 'ñ', 'è', 'ö', 'æ', 'ô', 'â', 'á', 'à', 'ê', 'ë']\n",
    "accented_text = []\n",
    "for i in range(len(text)):\n",
    "    for j in text[i]:\n",
    "        if j in accented_chars:\n",
    "            accented_text.append(i)    \n",
    "accented_text = list(set(accented_text)) "
   ]
  },
  {
   "cell_type": "code",
   "execution_count": 7,
   "metadata": {},
   "outputs": [
    {
     "name": "stdout",
     "output_type": "stream",
     "text": [
      "There are 0 texts containing the invalid character.\n",
      "There are 0 excerpts containing blocks of white space.\n"
     ]
    }
   ],
   "source": [
    "# Remove invalid character from text\n",
    "text = [excerpt.replace('\\xa0', '') for excerpt in text]\n",
    "unusual_text = []\n",
    "\n",
    "for i in range(len(text)):\n",
    "    for j in text[i]:\n",
    "        if j == '\\xa0':\n",
    "            unusual_text.append(i)\n",
    "        \n",
    "unusual_text = list(set(unusual_text))\n",
    " \n",
    "print('There are', str(len(unusual_text)), 'texts containing the invalid character.')\n",
    "new_text = []\n",
    "\n",
    "for excerpt in text:\n",
    "    while \"  \" in excerpt:\n",
    "        excerpt = excerpt.replace(\"  \",\" \")\n",
    "    new_text.append(excerpt)\n",
    "\n",
    "text = new_text\n",
    "ctr = 0\n",
    "for excerpt in text:\n",
    "    if \"  \" in excerpt:\n",
    "        ctr += 1\n",
    "\n",
    "print('There are', ctr, 'excerpts containing blocks of white space.')\n",
    "normed_text = []\n",
    "\n",
    "for i in range(len(text)):\n",
    "    new = text[i].lower()\n",
    "    new = new.translate(str.maketrans('','', string.punctuation))\n",
    "    new = new.replace('“', '').replace('”', '')\n",
    "    normed_text.append(new)\n"
   ]
  },
  {
   "cell_type": "code",
   "execution_count": 8,
   "metadata": {},
   "outputs": [],
   "source": [
    "#Training and Testing\n",
    "from sklearn.model_selection import train_test_split\n",
    "text_train, text_test, author_train, author_test = train_test_split(normed_text, author, test_size = 0.2, random_state = 5)"
   ]
  },
  {
   "cell_type": "code",
   "execution_count": 9,
   "metadata": {},
   "outputs": [],
   "source": [
    "from keras.preprocessing import text\n",
    "def create_n_grams(excerpt_list, n, vocab_size, seq_size):\n",
    "    n_gram_list = []\n",
    "    for excerpt in excerpt_list:\n",
    "        # Remove spaces\n",
    "        excerpt = excerpt.replace(\" \", \"\")\n",
    "        # Extract n-grams\n",
    "        n_grams = [excerpt[i:i + n] for i in range(len(excerpt) - n + 1)]\n",
    "        new_string = \" \".join(n_grams)\n",
    "        # One hot encode\n",
    "        hot = text.one_hot(new_string, round(vocab_size*1.3))\n",
    "        hot_len = len(hot)\n",
    "        if hot_len >= seq_size:\n",
    "            hot = hot[0:seq_size]\n",
    "        else:\n",
    "            diff = seq_size - hot_len\n",
    "            extra = [0]*diff\n",
    "            hot = hot + extra\n",
    "\n",
    "        n_gram_list.append(hot)\n",
    "    \n",
    "    n_gram_array = np.array(n_gram_list)\n",
    "    return n_gram_array"
   ]
  },
  {
   "cell_type": "code",
   "execution_count": 10,
   "metadata": {},
   "outputs": [
    {
     "name": "stdout",
     "output_type": "stream",
     "text": [
      "Vocab size for n = 1 is: 52\n",
      "Vocab size for n = 2 is: 982\n",
      "Vocab size for n = 3 is: 9504\n"
     ]
    }
   ],
   "source": [
    "def get_vocab_size(excerpt_list, n, seq_size):\n",
    "    n_gram_list = []\n",
    "    for excerpt in excerpt_list:\n",
    "        excerpt = excerpt.replace(\" \", \"\")\n",
    "        n_grams = [excerpt[i:i + n] for i in range(len(excerpt) - n + 1)]\n",
    "        gram_len = len(n_grams)\n",
    "        if gram_len >= seq_size:\n",
    "            n_grams = n_grams[0:seq_size]\n",
    "        else:\n",
    "            diff = seq_size - gram_len\n",
    "            extra = [0]*diff\n",
    "            n_grams = n_grams + extra\n",
    "        \n",
    "        n_gram_list.append(n_grams)\n",
    "    \n",
    "    # Flatten n-gram list\n",
    "    n_gram_list = list(np.array(n_gram_list).flat)\n",
    "    n_gram_cnt = Counter(n_gram_list)\n",
    "    vocab_size = len(n_gram_cnt)\n",
    "    return vocab_size\n",
    "for i in range(1, 4):\n",
    "    vocab_size = get_vocab_size(text_train, i, 350)\n",
    "    print('Vocab size for n =', i, 'is:', vocab_size)"
   ]
  },
  {
   "cell_type": "code",
   "execution_count": 11,
   "metadata": {},
   "outputs": [],
   "source": [
    "# Create n-gram lists\n",
    "gram1_train = create_n_grams(text_train, 1, 52, 350)\n",
    "gram2_train = create_n_grams(text_train, 2, 973, 350)\n",
    "gram3_train = create_n_grams(text_train, 3, 9529, 350)\n",
    "\n",
    "gram1_test = create_n_grams(text_test, 1, 52, 350)\n",
    "gram2_test = create_n_grams(text_test, 2, 973, 350)\n",
    "gram3_test = create_n_grams(text_test, 3, 9529, 350)\n",
    "\n",
    "max_1gram = np.max(gram1_train)\n",
    "max_2gram = np.max(gram2_train)\n",
    "max_3gram = np.max(gram3_train)"
   ]
  },
  {
   "cell_type": "code",
   "execution_count": 12,
   "metadata": {},
   "outputs": [],
   "source": [
    "import nltk\n",
    "from nltk.corpus import stopwords\n",
    "from nltk.stem import PorterStemmer\n",
    "\n",
    "def process_data(excerpt_list):\n",
    "    stop_words = set(stopwords.words('english'))\n",
    "    porter = PorterStemmer()\n",
    "    \n",
    "    processed = []\n",
    "    \n",
    "    for excerpt in excerpt_list:\n",
    "        new = excerpt.split()\n",
    "        word_list = [porter.stem(w) for w in new if not w in stop_words]\n",
    "        word_list = \" \".join(word_list)\n",
    "        processed.append(word_list)\n",
    "    \n",
    "    return processed\n",
    "processed_train = process_data(text_train)\n",
    "processed_test = process_data(text_test)"
   ]
  },
  {
   "cell_type": "code",
   "execution_count": 13,
   "metadata": {},
   "outputs": [],
   "source": [
    "# Bag of words and one hot\n",
    "from sklearn import preprocessing\n",
    "from sklearn.feature_extraction.text import TfidfVectorizer\n",
    "vectorizer = TfidfVectorizer(strip_accents = 'ascii', stop_words = 'english', min_df = 6)\n",
    "vectorizer.fit(processed_train)\n",
    "\n",
    "# Create feature vectors\n",
    "words_train = vectorizer.transform(processed_train)\n",
    "words_test = vectorizer.transform(processed_test)\n",
    "author_lb = preprocessing.LabelBinarizer()\n",
    "\n",
    "author_lb.fit(author_train)\n",
    "author_train_hot = author_lb.transform(author_train)\n",
    "author_test_hot = author_lb.transform(author_test)"
   ]
  },
  {
   "cell_type": "code",
   "execution_count": 15,
   "metadata": {},
   "outputs": [],
   "source": [
    "#CNN\n",
    "def define_model(input_len, output_size, vocab_size, embedding_dim, verbose = True,\n",
    "                drop_out_pct = 0.25, conv_filters = 500, activation_fn = 'relu', pool_size = 2, learning = 0.0001):\n",
    "    inputs1 = Input(shape = (input_len,))\n",
    "    embedding1 = Embedding(vocab_size, embedding_dim)(inputs1)\n",
    "    drop1 = Dropout(drop_out_pct)(embedding1)\n",
    "    conv1 = Conv1D(filters = conv_filters, kernel_size = 3, activation = activation_fn)(drop1)\n",
    "    pool1 = MaxPooling1D(pool_size = pool_size)(conv1)\n",
    "    flat1 = Flatten()(pool1)\n",
    "\n",
    "    inputs2 = Input(shape = (input_len,))\n",
    "    embedding2 = Embedding(vocab_size, embedding_dim)(inputs2)\n",
    "    drop2 = Dropout(drop_out_pct)(embedding2)\n",
    "    conv2 = Conv1D(filters = conv_filters, kernel_size = 4, activation = activation_fn)(drop2)\n",
    "    pool2 = MaxPooling1D(pool_size = pool_size)(conv2)\n",
    "    flat2 = Flatten()(pool2)\n",
    "\n",
    "    inputs3 = Input(shape = (input_len,))\n",
    "    embedding3= Embedding(vocab_size, embedding_dim)(inputs3)\n",
    "    drop3 = Dropout(drop_out_pct)(embedding3)\n",
    "    conv3 = Conv1D(filters = conv_filters, kernel_size = 5, activation = activation_fn)(drop3)\n",
    "    pool3 = MaxPooling1D(pool_size = pool_size)(conv3)\n",
    "    flat3 = Flatten()(pool3)\n",
    "    \n",
    "    merged = concatenate([flat1, flat2, flat3])\n",
    "    output = Dense(output_size, activation = 'softmax')(merged)\n",
    "    model = Model(inputs = [inputs1, inputs2, inputs3], outputs = output)\n",
    "    model.compile(loss='categorical_crossentropy', optimizer = tf.keras.optimizers.Adam(lr = learning), metrics=['accuracy'])\n",
    "    \n",
    "    if verbose:\n",
    "        print(model.summary())\n",
    "        \n",
    "    return model"
   ]
  },
  {
   "cell_type": "code",
   "execution_count": 16,
   "metadata": {},
   "outputs": [
    {
     "name": "stdout",
     "output_type": "stream",
     "text": [
      "Model: \"model\"\n",
      "__________________________________________________________________________________________________\n",
      "Layer (type)                    Output Shape         Param #     Connected to                     \n",
      "==================================================================================================\n",
      "input_1 (InputLayer)            [(None, 350)]        0                                            \n",
      "__________________________________________________________________________________________________\n",
      "input_2 (InputLayer)            [(None, 350)]        0                                            \n",
      "__________________________________________________________________________________________________\n",
      "input_3 (InputLayer)            [(None, 350)]        0                                            \n",
      "__________________________________________________________________________________________________\n",
      "embedding (Embedding)           (None, 350, 26)      1742        input_1[0][0]                    \n",
      "__________________________________________________________________________________________________\n",
      "embedding_1 (Embedding)         (None, 350, 26)      1742        input_2[0][0]                    \n",
      "__________________________________________________________________________________________________\n",
      "embedding_2 (Embedding)         (None, 350, 26)      1742        input_3[0][0]                    \n",
      "__________________________________________________________________________________________________\n",
      "dropout (Dropout)               (None, 350, 26)      0           embedding[0][0]                  \n",
      "__________________________________________________________________________________________________\n",
      "dropout_1 (Dropout)             (None, 350, 26)      0           embedding_1[0][0]                \n",
      "__________________________________________________________________________________________________\n",
      "dropout_2 (Dropout)             (None, 350, 26)      0           embedding_2[0][0]                \n",
      "__________________________________________________________________________________________________\n",
      "conv1d (Conv1D)                 (None, 348, 500)     39500       dropout[0][0]                    \n",
      "__________________________________________________________________________________________________\n",
      "conv1d_1 (Conv1D)               (None, 347, 500)     52500       dropout_1[0][0]                  \n",
      "__________________________________________________________________________________________________\n",
      "conv1d_2 (Conv1D)               (None, 346, 500)     65500       dropout_2[0][0]                  \n",
      "__________________________________________________________________________________________________\n",
      "max_pooling1d (MaxPooling1D)    (None, 174, 500)     0           conv1d[0][0]                     \n",
      "__________________________________________________________________________________________________\n",
      "max_pooling1d_1 (MaxPooling1D)  (None, 173, 500)     0           conv1d_1[0][0]                   \n",
      "__________________________________________________________________________________________________\n",
      "max_pooling1d_2 (MaxPooling1D)  (None, 173, 500)     0           conv1d_2[0][0]                   \n",
      "__________________________________________________________________________________________________\n",
      "flatten (Flatten)               (None, 87000)        0           max_pooling1d[0][0]              \n",
      "__________________________________________________________________________________________________\n",
      "flatten_1 (Flatten)             (None, 86500)        0           max_pooling1d_1[0][0]            \n",
      "__________________________________________________________________________________________________\n",
      "flatten_2 (Flatten)             (None, 86500)        0           max_pooling1d_2[0][0]            \n",
      "__________________________________________________________________________________________________\n",
      "concatenate (Concatenate)       (None, 260000)       0           flatten[0][0]                    \n",
      "                                                                 flatten_1[0][0]                  \n",
      "                                                                 flatten_2[0][0]                  \n",
      "__________________________________________________________________________________________________\n",
      "dense (Dense)                   (None, 8)            2080008     concatenate[0][0]                \n",
      "==================================================================================================\n",
      "Total params: 2,242,734\n",
      "Trainable params: 2,242,734\n",
      "Non-trainable params: 0\n",
      "__________________________________________________________________________________________________\n",
      "None\n"
     ]
    },
    {
     "name": "stderr",
     "output_type": "stream",
     "text": [
      "C:\\Users\\My Pc\\AppData\\Roaming\\Python\\Python39\\site-packages\\keras\\optimizer_v2\\optimizer_v2.py:355: UserWarning: The `lr` argument is deprecated, use `learning_rate` instead.\n",
      "  warnings.warn(\n"
     ]
    }
   ],
   "source": [
    "# Create the 1-gram model\n",
    "gram1_model = define_model(350, 8, max_1gram + 1, 26)"
   ]
  },
  {
   "cell_type": "code",
   "execution_count": 17,
   "metadata": {},
   "outputs": [
    {
     "name": "stdout",
     "output_type": "stream",
     "text": [
      "Epoch 1/5\n",
      "1360/1360 [==============================] - 586s 430ms/step - loss: 2.0390 - accuracy: 0.1790 - val_loss: 1.9529 - val_accuracy: 0.2344\n",
      "Epoch 2/5\n",
      "1360/1360 [==============================] - 646s 475ms/step - loss: 1.8917 - accuracy: 0.2665 - val_loss: 1.8821 - val_accuracy: 0.2645\n",
      "Epoch 3/5\n",
      "1360/1360 [==============================] - 741s 545ms/step - loss: 1.8116 - accuracy: 0.3126 - val_loss: 1.8506 - val_accuracy: 0.2869\n",
      "Epoch 4/5\n",
      "1360/1360 [==============================] - 721s 530ms/step - loss: 1.7456 - accuracy: 0.3482 - val_loss: 1.8319 - val_accuracy: 0.2992\n",
      "Epoch 5/5\n",
      "1360/1360 [==============================] - 717s 527ms/step - loss: 1.6782 - accuracy: 0.3767 - val_loss: 1.8178 - val_accuracy: 0.3106\n"
     ]
    },
    {
     "data": {
      "text/plain": [
       "<keras.callbacks.History at 0x1e919234340>"
      ]
     },
     "execution_count": 17,
     "metadata": {},
     "output_type": "execute_result"
    }
   ],
   "source": [
    "# Train 1-gram CNN\n",
    "gram1_model.fit([gram1_train, gram1_train, gram1_train], author_train_hot, epochs=5, batch_size=32, \n",
    "                verbose = 1, validation_split = 0.2)"
   ]
  },
  {
   "cell_type": "code",
   "execution_count": 20,
   "metadata": {
    "scrolled": true
   },
   "outputs": [
    {
     "name": "stdout",
     "output_type": "stream",
     "text": [
      "Model: \"model_2\"\n",
      "__________________________________________________________________________________________________\n",
      "Layer (type)                    Output Shape         Param #     Connected to                     \n",
      "==================================================================================================\n",
      "input_7 (InputLayer)            [(None, 350)]        0                                            \n",
      "__________________________________________________________________________________________________\n",
      "input_8 (InputLayer)            [(None, 350)]        0                                            \n",
      "__________________________________________________________________________________________________\n",
      "input_9 (InputLayer)            [(None, 350)]        0                                            \n",
      "__________________________________________________________________________________________________\n",
      "embedding_6 (Embedding)         (None, 350, 300)     378600      input_7[0][0]                    \n",
      "__________________________________________________________________________________________________\n",
      "embedding_7 (Embedding)         (None, 350, 300)     378600      input_8[0][0]                    \n",
      "__________________________________________________________________________________________________\n",
      "embedding_8 (Embedding)         (None, 350, 300)     378600      input_9[0][0]                    \n",
      "__________________________________________________________________________________________________\n",
      "dropout_6 (Dropout)             (None, 350, 300)     0           embedding_6[0][0]                \n",
      "__________________________________________________________________________________________________\n",
      "dropout_7 (Dropout)             (None, 350, 300)     0           embedding_7[0][0]                \n",
      "__________________________________________________________________________________________________\n",
      "dropout_8 (Dropout)             (None, 350, 300)     0           embedding_8[0][0]                \n",
      "__________________________________________________________________________________________________\n",
      "conv1d_6 (Conv1D)               (None, 348, 500)     450500      dropout_6[0][0]                  \n",
      "__________________________________________________________________________________________________\n",
      "conv1d_7 (Conv1D)               (None, 347, 500)     600500      dropout_7[0][0]                  \n",
      "__________________________________________________________________________________________________\n",
      "conv1d_8 (Conv1D)               (None, 346, 500)     750500      dropout_8[0][0]                  \n",
      "__________________________________________________________________________________________________\n",
      "max_pooling1d_6 (MaxPooling1D)  (None, 174, 500)     0           conv1d_6[0][0]                   \n",
      "__________________________________________________________________________________________________\n",
      "max_pooling1d_7 (MaxPooling1D)  (None, 173, 500)     0           conv1d_7[0][0]                   \n",
      "__________________________________________________________________________________________________\n",
      "max_pooling1d_8 (MaxPooling1D)  (None, 173, 500)     0           conv1d_8[0][0]                   \n",
      "__________________________________________________________________________________________________\n",
      "flatten_6 (Flatten)             (None, 87000)        0           max_pooling1d_6[0][0]            \n",
      "__________________________________________________________________________________________________\n",
      "flatten_7 (Flatten)             (None, 86500)        0           max_pooling1d_7[0][0]            \n",
      "__________________________________________________________________________________________________\n",
      "flatten_8 (Flatten)             (None, 86500)        0           max_pooling1d_8[0][0]            \n",
      "__________________________________________________________________________________________________\n",
      "concatenate_2 (Concatenate)     (None, 260000)       0           flatten_6[0][0]                  \n",
      "                                                                 flatten_7[0][0]                  \n",
      "                                                                 flatten_8[0][0]                  \n",
      "__________________________________________________________________________________________________\n",
      "dense_2 (Dense)                 (None, 8)            2080008     concatenate_2[0][0]              \n",
      "==================================================================================================\n",
      "Total params: 5,017,308\n",
      "Trainable params: 5,017,308\n",
      "Non-trainable params: 0\n",
      "__________________________________________________________________________________________________\n",
      "None\n"
     ]
    }
   ],
   "source": [
    "# Create the 2-gram model\n",
    "gram2_model = define_model(350, 8, max_2gram + 1, 300)"
   ]
  },
  {
   "cell_type": "code",
   "execution_count": 21,
   "metadata": {
    "scrolled": true
   },
   "outputs": [
    {
     "name": "stdout",
     "output_type": "stream",
     "text": [
      "Epoch 1/5\n",
      "1360/1360 [==============================] - 2083s 2s/step - loss: 1.9668 - accuracy: 0.2245 - val_loss: 1.7555 - val_accuracy: 0.3410\n",
      "Epoch 2/5\n",
      "1360/1360 [==============================] - 2074s 2s/step - loss: 1.5922 - accuracy: 0.4158 - val_loss: 1.5779 - val_accuracy: 0.4200\n",
      "Epoch 3/5\n",
      "1360/1360 [==============================] - 2139s 2s/step - loss: 1.3934 - accuracy: 0.5022 - val_loss: 1.5211 - val_accuracy: 0.4417\n",
      "Epoch 4/5\n",
      "1360/1360 [==============================] - 2055s 2s/step - loss: 1.2498 - accuracy: 0.5600 - val_loss: 1.4922 - val_accuracy: 0.4599\n",
      "Epoch 5/5\n",
      "1360/1360 [==============================] - 2063s 2s/step - loss: 1.1253 - accuracy: 0.6133 - val_loss: 1.4797 - val_accuracy: 0.4699\n"
     ]
    },
    {
     "data": {
      "text/plain": [
       "<keras.callbacks.History at 0x1e954991070>"
      ]
     },
     "execution_count": 21,
     "metadata": {},
     "output_type": "execute_result"
    }
   ],
   "source": [
    "# Train 2-gram CNN\n",
    "gram2_model.fit([gram2_train, gram2_train, gram2_train], author_train_hot, epochs=5, batch_size=32, \n",
    "                verbose = 1, validation_split = 0.2)"
   ]
  },
  {
   "cell_type": "code",
   "execution_count": 22,
   "metadata": {
    "scrolled": true
   },
   "outputs": [
    {
     "name": "stdout",
     "output_type": "stream",
     "text": [
      "Model: \"model_3\"\n",
      "__________________________________________________________________________________________________\n",
      "Layer (type)                    Output Shape         Param #     Connected to                     \n",
      "==================================================================================================\n",
      "input_10 (InputLayer)           [(None, 350)]        0                                            \n",
      "__________________________________________________________________________________________________\n",
      "input_11 (InputLayer)           [(None, 350)]        0                                            \n",
      "__________________________________________________________________________________________________\n",
      "input_12 (InputLayer)           [(None, 350)]        0                                            \n",
      "__________________________________________________________________________________________________\n",
      "embedding_9 (Embedding)         (None, 350, 600)     7432800     input_10[0][0]                   \n",
      "__________________________________________________________________________________________________\n",
      "embedding_10 (Embedding)        (None, 350, 600)     7432800     input_11[0][0]                   \n",
      "__________________________________________________________________________________________________\n",
      "embedding_11 (Embedding)        (None, 350, 600)     7432800     input_12[0][0]                   \n",
      "__________________________________________________________________________________________________\n",
      "dropout_9 (Dropout)             (None, 350, 600)     0           embedding_9[0][0]                \n",
      "__________________________________________________________________________________________________\n",
      "dropout_10 (Dropout)            (None, 350, 600)     0           embedding_10[0][0]               \n",
      "__________________________________________________________________________________________________\n",
      "dropout_11 (Dropout)            (None, 350, 600)     0           embedding_11[0][0]               \n",
      "__________________________________________________________________________________________________\n",
      "conv1d_9 (Conv1D)               (None, 348, 500)     900500      dropout_9[0][0]                  \n",
      "__________________________________________________________________________________________________\n",
      "conv1d_10 (Conv1D)              (None, 347, 500)     1200500     dropout_10[0][0]                 \n",
      "__________________________________________________________________________________________________\n",
      "conv1d_11 (Conv1D)              (None, 346, 500)     1500500     dropout_11[0][0]                 \n",
      "__________________________________________________________________________________________________\n",
      "max_pooling1d_9 (MaxPooling1D)  (None, 174, 500)     0           conv1d_9[0][0]                   \n",
      "__________________________________________________________________________________________________\n",
      "max_pooling1d_10 (MaxPooling1D) (None, 173, 500)     0           conv1d_10[0][0]                  \n",
      "__________________________________________________________________________________________________\n",
      "max_pooling1d_11 (MaxPooling1D) (None, 173, 500)     0           conv1d_11[0][0]                  \n",
      "__________________________________________________________________________________________________\n",
      "flatten_9 (Flatten)             (None, 87000)        0           max_pooling1d_9[0][0]            \n",
      "__________________________________________________________________________________________________\n",
      "flatten_10 (Flatten)            (None, 86500)        0           max_pooling1d_10[0][0]           \n",
      "__________________________________________________________________________________________________\n",
      "flatten_11 (Flatten)            (None, 86500)        0           max_pooling1d_11[0][0]           \n",
      "__________________________________________________________________________________________________\n",
      "concatenate_3 (Concatenate)     (None, 260000)       0           flatten_9[0][0]                  \n",
      "                                                                 flatten_10[0][0]                 \n",
      "                                                                 flatten_11[0][0]                 \n",
      "__________________________________________________________________________________________________\n",
      "dense_3 (Dense)                 (None, 8)            2080008     concatenate_3[0][0]              \n",
      "==================================================================================================\n",
      "Total params: 27,979,908\n",
      "Trainable params: 27,979,908\n",
      "Non-trainable params: 0\n",
      "__________________________________________________________________________________________________\n",
      "None\n"
     ]
    }
   ],
   "source": [
    "# Create the 3-gram model\n",
    "gram3_model = define_model(350, 8, max_3gram + 1, 600)"
   ]
  },
  {
   "cell_type": "code",
   "execution_count": 24,
   "metadata": {
    "scrolled": true
   },
   "outputs": [
    {
     "name": "stdout",
     "output_type": "stream",
     "text": [
      "Epoch 1/5\n",
      "1360/1360 [==============================] - 4193s 3s/step - loss: 0.4907 - accuracy: 0.8500 - val_loss: 1.3215 - val_accuracy: 0.5742\n",
      "Epoch 2/5\n",
      "1360/1360 [==============================] - 4191s 3s/step - loss: 0.3798 - accuracy: 0.8917 - val_loss: 1.4069 - val_accuracy: 0.5694\n",
      "Epoch 3/5\n",
      "1360/1360 [==============================] - 4194s 3s/step - loss: 0.2878 - accuracy: 0.9227 - val_loss: 1.5317 - val_accuracy: 0.5626\n",
      "Epoch 4/5\n",
      "1360/1360 [==============================] - 4190s 3s/step - loss: 0.2167 - accuracy: 0.9452 - val_loss: 1.6768 - val_accuracy: 0.5596\n",
      "Epoch 5/5\n",
      "1360/1360 [==============================] - 4001s 3s/step - loss: 0.1631 - accuracy: 0.9605 - val_loss: 1.7597 - val_accuracy: 0.5527\n"
     ]
    },
    {
     "data": {
      "text/plain": [
       "<keras.callbacks.History at 0x1e9672a4130>"
      ]
     },
     "execution_count": 24,
     "metadata": {},
     "output_type": "execute_result"
    }
   ],
   "source": [
    "# Train 3-gram CNN\n",
    "gram3_model.fit([gram3_train, gram3_train, gram3_train], author_train_hot, epochs=5, batch_size=32, \n",
    "                verbose = 1, validation_split = 0.2)"
   ]
  },
  {
   "cell_type": "code",
   "execution_count": 25,
   "metadata": {},
   "outputs": [],
   "source": [
    "# SVM\n",
    "svm = SVC()\n",
    "params = {'kernel': ['linear'], 'C':[1, 10, 100]}\n",
    "scorer = make_scorer(accuracy_score)\n",
    "\n",
    "grid_obj = GridSearchCV(svm, params, scoring = scorer, verbose = 50)"
   ]
  },
  {
   "cell_type": "code",
   "execution_count": 26,
   "metadata": {
    "scrolled": false
   },
   "outputs": [
    {
     "name": "stdout",
     "output_type": "stream",
     "text": [
      "Fitting 5 folds for each of 3 candidates, totalling 15 fits\n",
      "[CV 1/5; 1/3] START C=1, kernel=linear..........................................\n",
      "[CV 1/5; 1/3] END ...........C=1, kernel=linear;, score=0.600 total time= 3.1min\n",
      "[CV 2/5; 1/3] START C=1, kernel=linear..........................................\n",
      "[CV 2/5; 1/3] END ...........C=1, kernel=linear;, score=0.603 total time= 3.1min\n",
      "[CV 3/5; 1/3] START C=1, kernel=linear..........................................\n",
      "[CV 3/5; 1/3] END ...........C=1, kernel=linear;, score=0.600 total time= 3.1min\n",
      "[CV 4/5; 1/3] START C=1, kernel=linear..........................................\n",
      "[CV 4/5; 1/3] END ...........C=1, kernel=linear;, score=0.596 total time= 3.1min\n",
      "[CV 5/5; 1/3] START C=1, kernel=linear..........................................\n",
      "[CV 5/5; 1/3] END ...........C=1, kernel=linear;, score=0.600 total time= 3.1min\n",
      "[CV 1/5; 2/3] START C=10, kernel=linear.........................................\n",
      "[CV 1/5; 2/3] END ..........C=10, kernel=linear;, score=0.575 total time= 3.8min\n",
      "[CV 2/5; 2/3] START C=10, kernel=linear.........................................\n",
      "[CV 2/5; 2/3] END ..........C=10, kernel=linear;, score=0.573 total time= 3.8min\n",
      "[CV 3/5; 2/3] START C=10, kernel=linear.........................................\n",
      "[CV 3/5; 2/3] END ..........C=10, kernel=linear;, score=0.577 total time= 3.8min\n",
      "[CV 4/5; 2/3] START C=10, kernel=linear.........................................\n",
      "[CV 4/5; 2/3] END ..........C=10, kernel=linear;, score=0.570 total time= 4.0min\n",
      "[CV 5/5; 2/3] START C=10, kernel=linear.........................................\n",
      "[CV 5/5; 2/3] END ..........C=10, kernel=linear;, score=0.572 total time= 4.7min\n",
      "[CV 1/5; 3/3] START C=100, kernel=linear........................................\n",
      "[CV 1/5; 3/3] END .........C=100, kernel=linear;, score=0.546 total time=18.9min\n",
      "[CV 2/5; 3/3] START C=100, kernel=linear........................................\n",
      "[CV 2/5; 3/3] END .........C=100, kernel=linear;, score=0.543 total time=12.8min\n",
      "[CV 3/5; 3/3] START C=100, kernel=linear........................................\n",
      "[CV 3/5; 3/3] END .........C=100, kernel=linear;, score=0.552 total time=16.0min\n",
      "[CV 4/5; 3/3] START C=100, kernel=linear........................................\n",
      "[CV 4/5; 3/3] END .........C=100, kernel=linear;, score=0.543 total time=15.7min\n",
      "[CV 5/5; 3/3] START C=100, kernel=linear........................................\n",
      "[CV 5/5; 3/3] END .........C=100, kernel=linear;, score=0.548 total time=16.7min\n",
      "SVC(C=1, kernel='linear')\n",
      "{'mean_fit_time': array([158.14546852, 217.31424766, 934.936374  ]), 'std_fit_time': array([  0.67087302,  17.30496178, 117.75469914]), 'mean_score_time': array([27.33325014, 25.43312163, 26.41329269]), 'std_score_time': array([0.1778643 , 3.15310257, 3.01848478]), 'param_C': masked_array(data=[1, 10, 100],\n",
      "             mask=[False, False, False],\n",
      "       fill_value='?',\n",
      "            dtype=object), 'param_kernel': masked_array(data=['linear', 'linear', 'linear'],\n",
      "             mask=[False, False, False],\n",
      "       fill_value='?',\n",
      "            dtype=object), 'params': [{'C': 1, 'kernel': 'linear'}, {'C': 10, 'kernel': 'linear'}, {'C': 100, 'kernel': 'linear'}], 'split0_test_score': array([0.59981618, 0.57454044, 0.54568015]), 'split1_test_score': array([0.60330882, 0.57316176, 0.54255515]), 'split2_test_score': array([0.59981618, 0.57748162, 0.55165441]), 'split3_test_score': array([0.59568015, 0.56957721, 0.54255515]), 'split4_test_score': array([0.59954044, 0.57233456, 0.54834559]), 'mean_test_score': array([0.59963235, 0.57341912, 0.54615809]), 'std_test_score': array([0.00241712, 0.00259862, 0.00349816]), 'rank_test_score': array([1, 2, 3])}\n"
     ]
    }
   ],
   "source": [
    "# Fit bag of words svm\n",
    "np.random.seed(6)\n",
    "word_svm = grid_obj.fit(words_train, author_train)\n",
    "print(word_svm.best_estimator_)\n",
    "print(word_svm.cv_results_)"
   ]
  },
  {
   "cell_type": "code",
   "execution_count": 27,
   "metadata": {},
   "outputs": [
    {
     "name": "stdout",
     "output_type": "stream",
     "text": [
      "Model: \"model_4\"\n",
      "__________________________________________________________________________________________________\n",
      "Layer (type)                    Output Shape         Param #     Connected to                     \n",
      "==================================================================================================\n",
      "input_13 (InputLayer)           [(None, 350)]        0                                            \n",
      "__________________________________________________________________________________________________\n",
      "input_14 (InputLayer)           [(None, 350)]        0                                            \n",
      "__________________________________________________________________________________________________\n",
      "input_15 (InputLayer)           [(None, 350)]        0                                            \n",
      "__________________________________________________________________________________________________\n",
      "input_16 (InputLayer)           [(None, 350)]        0                                            \n",
      "__________________________________________________________________________________________________\n",
      "embedding_12 (Embedding)        (None, 350, 600)     7432800     input_13[0][0]                   \n",
      "__________________________________________________________________________________________________\n",
      "embedding_13 (Embedding)        (None, 350, 600)     7432800     input_14[0][0]                   \n",
      "__________________________________________________________________________________________________\n",
      "embedding_14 (Embedding)        (None, 350, 600)     7432800     input_15[0][0]                   \n",
      "__________________________________________________________________________________________________\n",
      "embedding_15 (Embedding)        (None, 350, 600)     7432800     input_16[0][0]                   \n",
      "__________________________________________________________________________________________________\n",
      "dropout_12 (Dropout)            (None, 350, 600)     0           embedding_12[0][0]               \n",
      "__________________________________________________________________________________________________\n",
      "dropout_13 (Dropout)            (None, 350, 600)     0           embedding_13[0][0]               \n",
      "__________________________________________________________________________________________________\n",
      "dropout_14 (Dropout)            (None, 350, 600)     0           embedding_14[0][0]               \n",
      "__________________________________________________________________________________________________\n",
      "dropout_15 (Dropout)            (None, 350, 600)     0           embedding_15[0][0]               \n",
      "__________________________________________________________________________________________________\n",
      "conv1d_12 (Conv1D)              (None, 348, 500)     900500      dropout_12[0][0]                 \n",
      "__________________________________________________________________________________________________\n",
      "conv1d_13 (Conv1D)              (None, 347, 500)     1200500     dropout_13[0][0]                 \n",
      "__________________________________________________________________________________________________\n",
      "conv1d_14 (Conv1D)              (None, 346, 500)     1500500     dropout_14[0][0]                 \n",
      "__________________________________________________________________________________________________\n",
      "conv1d_15 (Conv1D)              (None, 345, 500)     1800500     dropout_15[0][0]                 \n",
      "__________________________________________________________________________________________________\n",
      "max_pooling1d_12 (MaxPooling1D) (None, 174, 500)     0           conv1d_12[0][0]                  \n",
      "__________________________________________________________________________________________________\n",
      "max_pooling1d_13 (MaxPooling1D) (None, 173, 500)     0           conv1d_13[0][0]                  \n",
      "__________________________________________________________________________________________________\n",
      "max_pooling1d_14 (MaxPooling1D) (None, 173, 500)     0           conv1d_14[0][0]                  \n",
      "__________________________________________________________________________________________________\n",
      "max_pooling1d_15 (MaxPooling1D) (None, 172, 500)     0           conv1d_15[0][0]                  \n",
      "__________________________________________________________________________________________________\n",
      "flatten_12 (Flatten)            (None, 87000)        0           max_pooling1d_12[0][0]           \n",
      "__________________________________________________________________________________________________\n",
      "flatten_13 (Flatten)            (None, 86500)        0           max_pooling1d_13[0][0]           \n",
      "__________________________________________________________________________________________________\n",
      "flatten_14 (Flatten)            (None, 86500)        0           max_pooling1d_14[0][0]           \n",
      "__________________________________________________________________________________________________\n",
      "flatten_15 (Flatten)            (None, 86000)        0           max_pooling1d_15[0][0]           \n",
      "__________________________________________________________________________________________________\n",
      "concatenate_4 (Concatenate)     (None, 346000)       0           flatten_12[0][0]                 \n",
      "                                                                 flatten_13[0][0]                 \n",
      "                                                                 flatten_14[0][0]                 \n",
      "                                                                 flatten_15[0][0]                 \n",
      "__________________________________________________________________________________________________\n",
      "dense_4 (Dense)                 (None, 8)            2768008     concatenate_4[0][0]              \n",
      "==================================================================================================\n",
      "Total params: 37,901,208\n",
      "Trainable params: 37,901,208\n",
      "Non-trainable params: 0\n",
      "__________________________________________________________________________________________________\n",
      "None\n"
     ]
    },
    {
     "name": "stderr",
     "output_type": "stream",
     "text": [
      "C:\\Users\\My Pc\\AppData\\Roaming\\Python\\Python39\\site-packages\\keras\\optimizer_v2\\optimizer_v2.py:355: UserWarning: The `lr` argument is deprecated, use `learning_rate` instead.\n",
      "  warnings.warn(\n"
     ]
    }
   ],
   "source": [
    "def define_model2(input_len, output_size, vocab_size, embedding_dim, verbose = True,\n",
    "                drop_out_pct = 0.25, conv_filters = 500, activation_fn = 'relu', pool_size = 2, learning = 0.0001):\n",
    "    # Channel 1\n",
    "    inputs1 = Input(shape = (input_len,))\n",
    "    embedding1 = Embedding(vocab_size, embedding_dim)(inputs1)\n",
    "    drop1 = Dropout(drop_out_pct)(embedding1)\n",
    "    conv1 = Conv1D(filters = conv_filters, kernel_size = 3, activation = activation_fn)(drop1)\n",
    "    pool1 = MaxPooling1D(pool_size = pool_size)(conv1)\n",
    "    flat1 = Flatten()(pool1)\n",
    "    \n",
    "    # Channel 2\n",
    "    inputs2 = Input(shape = (input_len,))\n",
    "    embedding2 = Embedding(vocab_size, embedding_dim)(inputs2)\n",
    "    drop2 = Dropout(drop_out_pct)(embedding2)\n",
    "    conv2 = Conv1D(filters = conv_filters, kernel_size = 4, activation = activation_fn)(drop2)\n",
    "    pool2 = MaxPooling1D(pool_size = pool_size)(conv2)\n",
    "    flat2 = Flatten()(pool2)\n",
    "\n",
    "    # Channel 3\n",
    "    inputs3 = Input(shape = (input_len,))\n",
    "    embedding3= Embedding(vocab_size, embedding_dim)(inputs3)\n",
    "    drop3 = Dropout(drop_out_pct)(embedding3)\n",
    "    conv3 = Conv1D(filters = conv_filters, kernel_size = 5, activation = activation_fn)(drop3)\n",
    "    pool3 = MaxPooling1D(pool_size = pool_size)(conv3)\n",
    "    flat3 = Flatten()(pool3)\n",
    "    \n",
    "    # Channel 4\n",
    "    inputs4 = Input(shape = (input_len,))\n",
    "    embedding4 = Embedding(vocab_size, embedding_dim)(inputs4)\n",
    "    drop4 = Dropout(drop_out_pct)(embedding4)\n",
    "    conv4 = Conv1D(filters = conv_filters, kernel_size = 6, activation = activation_fn)(drop4)\n",
    "    pool4 = MaxPooling1D(pool_size = pool_size)(conv4)\n",
    "    flat4 = Flatten()(pool4)\n",
    "    merged = concatenate([flat1, flat2, flat3, flat4])\n",
    "    output = Dense(output_size, activation = 'softmax')(merged)\n",
    "    model = Model(inputs = [inputs1, inputs2, inputs3, inputs4], outputs = output)\n",
    "    model.compile(loss='categorical_crossentropy', optimizer = Adam(lr = learning), metrics=['accuracy'])\n",
    "    if verbose:\n",
    "        print(model.summary())\n",
    "    return model\n",
    "# Create the 3-gram model\n",
    "gram3_model2 = define_model2(350, 8, max_3gram + 1, 600)\n"
   ]
  },
  {
   "cell_type": "code",
   "execution_count": 28,
   "metadata": {},
   "outputs": [
    {
     "name": "stdout",
     "output_type": "stream",
     "text": [
      "Epoch 1/5\n",
      "1360/1360 [==============================] - 6853s 5s/step - loss: 1.8802 - accuracy: 0.2708 - val_loss: 1.4922 - val_accuracy: 0.4479\n",
      "Epoch 2/5\n",
      "1360/1360 [==============================] - 19589s 14s/step - loss: 1.2129 - accuracy: 0.5717 - val_loss: 1.2394 - val_accuracy: 0.5638\n",
      "Epoch 3/5\n",
      "1360/1360 [==============================] - 6753s 5s/step - loss: 0.8974 - accuracy: 0.6926 - val_loss: 1.1993 - val_accuracy: 0.5804\n",
      "Epoch 4/5\n",
      "1360/1360 [==============================] - 5815s 4s/step - loss: 0.6950 - accuracy: 0.7713 - val_loss: 1.2250 - val_accuracy: 0.5835\n",
      "Epoch 5/5\n",
      "1360/1360 [==============================] - 5816s 4s/step - loss: 0.5309 - accuracy: 0.8349 - val_loss: 1.2985 - val_accuracy: 0.5735\n"
     ]
    },
    {
     "data": {
      "text/plain": [
       "<keras.callbacks.History at 0x1e968388eb0>"
      ]
     },
     "execution_count": 28,
     "metadata": {},
     "output_type": "execute_result"
    }
   ],
   "source": [
    "# Train 3-gram CNN\n",
    "gram3_model2.fit([gram3_train, gram3_train, gram3_train, gram3_train], author_train_hot, epochs=5, batch_size=32, \n",
    "                verbose = 1, validation_split = 0.2)"
   ]
  },
  {
   "cell_type": "code",
   "execution_count": 32,
   "metadata": {},
   "outputs": [],
   "source": [
    "def plot_confusion_matrix(cm, classes,\n",
    "                          normalize=False,\n",
    "                          title='Confusion matrix',\n",
    "                          cmap=plt.cm.Blues):\n",
    "    if normalize:\n",
    "        cm = cm.astype('float') / cm.sum(axis=1)[:, np.newaxis]\n",
    "        print(\"Normalized confusion matrix\")\n",
    "    else:\n",
    "        print('Confusion matrix, without normalization')\n",
    "\n",
    "    print(cm)  \n",
    "    df_cm = pd.DataFrame(cm, index = classes,\n",
    "                  columns = classes)\n",
    "    sns.heatmap(df_cm, annot=True, cmap = cmap)\n",
    "    plt.ylabel('True Label')\n",
    "    plt.xlabel('Predicted Label')\n",
    "    plt.title(title)"
   ]
  },
  {
   "cell_type": "code",
   "execution_count": 34,
   "metadata": {
    "scrolled": true
   },
   "outputs": [
    {
     "name": "stderr",
     "output_type": "stream",
     "text": [
      "C:\\Users\\My Pc\\AppData\\Roaming\\Python\\Python39\\site-packages\\keras\\optimizer_v2\\optimizer_v2.py:355: UserWarning: The `lr` argument is deprecated, use `learning_rate` instead.\n",
      "  warnings.warn(\n"
     ]
    },
    {
     "name": "stdout",
     "output_type": "stream",
     "text": [
      "Model: \"model_6\"\n",
      "__________________________________________________________________________________________________\n",
      "Layer (type)                    Output Shape         Param #     Connected to                     \n",
      "==================================================================================================\n",
      "input_20 (InputLayer)           [(None, 350)]        0                                            \n",
      "__________________________________________________________________________________________________\n",
      "input_21 (InputLayer)           [(None, 350)]        0                                            \n",
      "__________________________________________________________________________________________________\n",
      "input_22 (InputLayer)           [(None, 350)]        0                                            \n",
      "__________________________________________________________________________________________________\n",
      "embedding_19 (Embedding)        (None, 350, 600)     7432800     input_20[0][0]                   \n",
      "__________________________________________________________________________________________________\n",
      "embedding_20 (Embedding)        (None, 350, 600)     7432800     input_21[0][0]                   \n",
      "__________________________________________________________________________________________________\n",
      "embedding_21 (Embedding)        (None, 350, 600)     7432800     input_22[0][0]                   \n",
      "__________________________________________________________________________________________________\n",
      "dropout_19 (Dropout)            (None, 350, 600)     0           embedding_19[0][0]               \n",
      "__________________________________________________________________________________________________\n",
      "dropout_20 (Dropout)            (None, 350, 600)     0           embedding_20[0][0]               \n",
      "__________________________________________________________________________________________________\n",
      "dropout_21 (Dropout)            (None, 350, 600)     0           embedding_21[0][0]               \n",
      "__________________________________________________________________________________________________\n",
      "conv1d_19 (Conv1D)              (None, 348, 500)     900500      dropout_19[0][0]                 \n",
      "__________________________________________________________________________________________________\n",
      "conv1d_20 (Conv1D)              (None, 347, 500)     1200500     dropout_20[0][0]                 \n",
      "__________________________________________________________________________________________________\n",
      "conv1d_21 (Conv1D)              (None, 346, 500)     1500500     dropout_21[0][0]                 \n",
      "__________________________________________________________________________________________________\n",
      "max_pooling1d_19 (MaxPooling1D) (None, 174, 500)     0           conv1d_19[0][0]                  \n",
      "__________________________________________________________________________________________________\n",
      "max_pooling1d_20 (MaxPooling1D) (None, 173, 500)     0           conv1d_20[0][0]                  \n",
      "__________________________________________________________________________________________________\n",
      "max_pooling1d_21 (MaxPooling1D) (None, 173, 500)     0           conv1d_21[0][0]                  \n",
      "__________________________________________________________________________________________________\n",
      "flatten_19 (Flatten)            (None, 87000)        0           max_pooling1d_19[0][0]           \n",
      "__________________________________________________________________________________________________\n",
      "flatten_20 (Flatten)            (None, 86500)        0           max_pooling1d_20[0][0]           \n",
      "__________________________________________________________________________________________________\n",
      "flatten_21 (Flatten)            (None, 86500)        0           max_pooling1d_21[0][0]           \n",
      "__________________________________________________________________________________________________\n",
      "concatenate_6 (Concatenate)     (None, 260000)       0           flatten_19[0][0]                 \n",
      "                                                                 flatten_20[0][0]                 \n",
      "                                                                 flatten_21[0][0]                 \n",
      "__________________________________________________________________________________________________\n",
      "dense_6 (Dense)                 (None, 8)            2080008     concatenate_6[0][0]              \n",
      "==================================================================================================\n",
      "Total params: 27,979,908\n",
      "Trainable params: 27,979,908\n",
      "Non-trainable params: 0\n",
      "__________________________________________________________________________________________________\n",
      "None\n",
      "Epoch 1/5\n",
      "1360/1360 [==============================] - 4285s 3s/step - loss: 1.8992 - accuracy: 0.2585 - val_loss: 1.5517 - val_accuracy: 0.4210\n",
      "Epoch 2/5\n",
      "1360/1360 [==============================] - 4618s 3s/step - loss: 1.2698 - accuracy: 0.5500 - val_loss: 1.2538 - val_accuracy: 0.5545\n",
      "Epoch 3/5\n",
      "1360/1360 [==============================] - 7910s 6s/step - loss: 0.9575 - accuracy: 0.6683 - val_loss: 1.2104 - val_accuracy: 0.5744\n",
      "Epoch 4/5\n",
      "1360/1360 [==============================] - 4664s 3s/step - loss: 0.7691 - accuracy: 0.7409 - val_loss: 1.2228 - val_accuracy: 0.5778\n",
      "Epoch 5/5\n",
      "1360/1360 [==============================] - 4020s 3s/step - loss: 0.6216 - accuracy: 0.7966 - val_loss: 1.2781 - val_accuracy: 0.5713\n",
      "Accuracy: 0.5735294117647058\n",
      "Ave. Precision: 0.575929623845316\n",
      "Ave. Recall: 0.5735294117647058\n",
      "Ave. F1 Score: 0.5716043183642725\n",
      "Training Time: 25497.04950237274 seconds\n",
      "Prediction Time: 276.2461495399475 seconds\n",
      "Confusion Matrix:\n",
      " [[1000   79  183   73   87   83   61   75]\n",
      " [ 119  868  159  118  159  179   36  114]\n",
      " [ 108   73 1207   52   64   94   26   61]\n",
      " [  58   64   75 1095  130   88   37  104]\n",
      " [  84  114  118  119  985  170   43  143]\n",
      " [  61  144  147  129  183  761   76  123]\n",
      " [  97   56  131   80   55   82 1189   48]\n",
      " [ 134  146  144  196  209  170   39  695]]\n",
      "Normalized confusion matrix\n",
      "[[0.60938452 0.04814138 0.11151737 0.04448507 0.05301645 0.05057892\n",
      "  0.03717246 0.04570384]\n",
      " [0.06792237 0.49543379 0.09075342 0.0673516  0.09075342 0.10216895\n",
      "  0.02054795 0.06506849]\n",
      " [0.06409496 0.04332344 0.71632047 0.03086053 0.0379822  0.05578635\n",
      "  0.01543027 0.03620178]\n",
      " [0.03513022 0.03876439 0.04542701 0.6632344  0.07874016 0.05330103\n",
      "  0.02241066 0.06299213]\n",
      " [0.0472973  0.06418919 0.06644144 0.0670045  0.55461712 0.09572072\n",
      "  0.02421171 0.08051802]\n",
      " [0.03756158 0.08866995 0.09051724 0.0794335  0.11268473 0.46859606\n",
      "  0.04679803 0.07573892]\n",
      " [0.05581128 0.03222094 0.07537399 0.04602992 0.03164557 0.04718067\n",
      "  0.68411968 0.02761795]\n",
      " [0.07732256 0.08424697 0.0830929  0.11309867 0.12060012 0.09809579\n",
      "  0.02250433 0.40103866]]\n"
     ]
    },
    {
     "data": {
      "image/png": "[encoded data removed]",
      "text/plain": [
       "<Figure size 432x288 with 2 Axes>"
      ]
     },
     "metadata": {
      "needs_background": "light"
     },
     "output_type": "display_data"
    }
   ],
   "source": [
    "#Model 1 (3-gram CNN)\n",
    "\n",
    "t0 = time.time()\n",
    "# Fit model\n",
    "model1 = define_model(350, 8, max_3gram + 1, 600)\n",
    "model1.fit([gram3_train, gram3_train, gram3_train], author_train_hot, epochs=5, batch_size=32, \n",
    "           verbose = 1, validation_split = 0.2)\n",
    "t1 = time.time()\n",
    "\n",
    "# Predict values for test set\n",
    "author_pred1 = model1.predict([gram3_test, gram3_test, gram3_test])\n",
    "t2 = time.time()\n",
    "# Reverse one-hot encoding of labels\n",
    "author_pred1 = author_lb.inverse_transform(author_pred1)\n",
    "# Evaluate\n",
    "accuracy = accuracy_score(author_test, author_pred1)\n",
    "precision, recall, f1, support = score(author_test, author_pred1)\n",
    "ave_precision = np.average(precision, weights = support/np.sum(support))\n",
    "ave_recall = np.average(recall, weights = support/np.sum(support))\n",
    "ave_f1 = np.average(f1, weights = support/np.sum(support))\n",
    "confusion = confusion_matrix(author_test, author_pred1, labels = ['Alcott', 'Stoker', 'Twain', 'Austen', \n",
    "                                                                  'Collins', 'Doyle', 'Montgomery', 'Bronte'])\n",
    "    \n",
    "print(\"Accuracy:\", accuracy)\n",
    "print(\"Ave. Precision:\", ave_precision)\n",
    "print(\"Ave. Recall:\", ave_recall)\n",
    "print(\"Ave. F1 Score:\", ave_f1)\n",
    "print(\"Training Time:\", (t1 - t0), \"seconds\")\n",
    "print(\"Prediction Time:\", (t2 - t1), \"seconds\")\n",
    "print(\"Confusion Matrix:\\n\", confusion)\n",
    "plot_confusion_matrix(confusion, classes=['Alcott', 'Stoker', 'Twain', 'Austen', \n",
    "                                                                  'Collins', 'Doyle', 'Montgomery', 'Bronte'],\\\n",
    "                      normalize=True, title='Normalized Confusion Matrix - Model 1')\n",
    "\n",
    "plt.savefig(\"confusion1.eps\")"
   ]
  },
  {
   "cell_type": "code",
   "execution_count": 33,
   "metadata": {},
   "outputs": [
    {
     "name": "stdout",
     "output_type": "stream",
     "text": [
      "Accuracy: 0.5973529411764706\n",
      "Ave. Precision: 0.6070352891247699\n",
      "Ave. Recall: 0.5973529411764706\n",
      "Ave. F1 Score: 0.6000545842320824\n",
      "Training Time: 269.41978192329407 seconds\n",
      "Prediction Time: 41.967782974243164 seconds\n",
      "Confusion Matrix:\n",
      " [[1060   75   94   73   48  100   82  109]\n",
      " [  71 1007   90   85  130  208   22  139]\n",
      " [  82   73 1123   47   54  173   52   81]\n",
      " [  55   47   37 1112  113  119   33  135]\n",
      " [  72  130   62  132  948  222   36  174]\n",
      " [  56  145   77  108  149  904   24  161]\n",
      " [ 142   73  113   76   36   96 1103   99]\n",
      " [  76  139   70  149  153  230   49  867]]\n",
      "Normalized confusion matrix\n",
      "[[0.64594759 0.04570384 0.05728215 0.04448507 0.02925046 0.06093845\n",
      "  0.04996953 0.06642291]\n",
      " [0.04052511 0.57477169 0.05136986 0.04851598 0.07420091 0.11872146\n",
      "  0.01255708 0.0793379 ]\n",
      " [0.04866469 0.04332344 0.66646884 0.02789318 0.03204748 0.10267062\n",
      "  0.03086053 0.04807122]\n",
      " [0.03331314 0.0284676  0.02241066 0.67353119 0.06844337 0.07207753\n",
      "  0.01998789 0.08176863]\n",
      " [0.04054054 0.0731982  0.03490991 0.07432432 0.53378378 0.125\n",
      "  0.02027027 0.09797297]\n",
      " [0.03448276 0.08928571 0.04741379 0.06650246 0.09174877 0.55665025\n",
      "  0.01477833 0.09913793]\n",
      " [0.08170311 0.0420023  0.06501726 0.04372842 0.02071346 0.0552359\n",
      "  0.63463751 0.05696203]\n",
      " [0.04385459 0.08020773 0.04039238 0.08597807 0.08828621 0.13271783\n",
      "  0.02827467 0.50028852]]\n"
     ]
    },
    {
     "data": {
      "image/png": "[encoded data removed]",
      "text/plain": [
       "<Figure size 432x288 with 2 Axes>"
      ]
     },
     "metadata": {
      "needs_background": "light"
     },
     "output_type": "display_data"
    }
   ],
   "source": [
    "#Model 2 (Bag of words SVM)\n",
    "np.random.seed(28)\n",
    "t0 = time.time()\n",
    "model2 = SVC(C = 1, kernel = 'linear')\n",
    "model2.fit(words_train, author_train)\n",
    "\n",
    "t1 = time.time()\n",
    "author_pred2 = model2.predict(words_test)\n",
    "\n",
    "t2 = time.time()\n",
    "accuracy = accuracy_score(author_test, author_pred2)\n",
    "precision, recall, f1, support = score(author_test, author_pred2)\n",
    "ave_precision = np.average(precision, weights = support/np.sum(support))\n",
    "ave_recall = np.average(recall, weights = support/np.sum(support))\n",
    "ave_f1 = np.average(f1, weights = support/np.sum(support))\n",
    "confusion = confusion_matrix(author_test, author_pred2, labels =  ['Alcott', 'Stoker', 'Twain', 'Austen', \n",
    "                                                                  'Collins', 'Doyle', 'Montgomery', 'Bronte'])\n",
    "print(\"Accuracy:\", accuracy)\n",
    "print(\"Ave. Precision:\", ave_precision)\n",
    "print(\"Ave. Recall:\", ave_recall)\n",
    "print(\"Ave. F1 Score:\", ave_f1)\n",
    "print(\"Training Time:\", (t1 - t0), \"seconds\")\n",
    "print(\"Prediction Time:\", (t2 - t1), \"seconds\")\n",
    "print(\"Confusion Matrix:\\n\", confusion)\n",
    "plot_confusion_matrix(confusion, classes=['Alcott', 'Stoker', 'Twain', 'Austen', \n",
    "                                          'Collins', 'Doyle', 'Montgomery', 'Bronte'], \\\n",
    "                      normalize=True, title='Normalized Confusion Matrix - Model 2')\n",
    "\n",
    "plt.savefig(\"confusion2.eps\")"
   ]
  }
 ],
 "metadata": {
  "kernelspec": {
   "display_name": "Python 3 (ipykernel)",
   "language": "python",
   "name": "python3"
  },
  "language_info": {
   "codemirror_mode": {
    "name": "ipython",
    "version": 3
   },
   "file_extension": ".py",
   "mimetype": "text/x-python",
   "name": "python",
   "nbconvert_exporter": "python",
   "pygments_lexer": "ipython3",
   "version": "3.9.7"
  }
 },
 "nbformat": 4,
 "nbformat_minor": 2
}
